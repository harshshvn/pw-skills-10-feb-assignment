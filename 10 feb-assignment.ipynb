{
 "cells": [
  {
   "cell_type": "markdown",
   "id": "55cfab78-e86c-41b6-890e-19dece633e24",
   "metadata": {},
   "source": [
    "Q1"
   ]
  },
  {
   "cell_type": "markdown",
   "id": "1168f858-a245-4b84-abad-9aae1dbedc51",
   "metadata": {},
   "source": [
    "Open function is used to open a file in python.For example"
   ]
  },
  {
   "cell_type": "code",
   "execution_count": 1,
   "id": "f6c2124d-c988-47b2-93fa-e8c79afe40c9",
   "metadata": {},
   "outputs": [],
   "source": [
    "file=open(\"test.txt\")"
   ]
  },
  {
   "cell_type": "markdown",
   "id": "bb774181-ade6-4473-9711-2e726a444f91",
   "metadata": {},
   "source": [
    "Different modes of opening a file in python are-\n",
    "\n",
    "1.Read Only ('r') : Open text file for reading\n",
    "\n",
    "2.Read and Write ('r+'): Open the file for reading and writing\n",
    "\n",
    "3.Write Only ('w') : Open the file for writing\n",
    "\n",
    "4.Write and Read ('w+') : Open the file for reading and writing\n",
    "\n",
    "5.Append Only ('a'): Open the file for writing and does not truncate it like write mode\n"
   ]
  },
  {
   "cell_type": "markdown",
   "id": "445c1aac-87ef-45b0-87d8-e57e6d600be9",
   "metadata": {},
   "source": [
    "WRITE MODE"
   ]
  },
  {
   "cell_type": "code",
   "execution_count": 2,
   "id": "66b44bd3-edc7-4185-b599-044a223bb8a4",
   "metadata": {},
   "outputs": [],
   "source": [
    "new=open(\"new.txt\",\"w\")"
   ]
  },
  {
   "cell_type": "code",
   "execution_count": 3,
   "id": "044e3003-4000-47f8-b75d-9d5d061e1922",
   "metadata": {},
   "outputs": [
    {
     "data": {
      "text/plain": [
       "16"
      ]
     },
     "execution_count": 3,
     "metadata": {},
     "output_type": "execute_result"
    }
   ],
   "source": [
    "new.write(\"My name is harsh\")"
   ]
  },
  {
   "cell_type": "markdown",
   "id": "36111902-5b25-4300-89cc-afab7c7e9cbf",
   "metadata": {},
   "source": [
    "READ MODE"
   ]
  },
  {
   "cell_type": "code",
   "execution_count": 8,
   "id": "0505f453-49e4-4bff-ad98-3831f3ee4e38",
   "metadata": {},
   "outputs": [
    {
     "data": {
      "text/plain": [
       "'My name is harsh'"
      ]
     },
     "execution_count": 8,
     "metadata": {},
     "output_type": "execute_result"
    }
   ],
   "source": [
    "new=open(\"new.txt\",\"r\")\n",
    "new.read()\n"
   ]
  },
  {
   "cell_type": "code",
   "execution_count": 9,
   "id": "8f120e1a-743f-4b60-9163-360c610c7895",
   "metadata": {},
   "outputs": [],
   "source": [
    "new.close()"
   ]
  },
  {
   "cell_type": "markdown",
   "id": "ba390223-99f9-435a-bf8b-e6b3aba9c4c9",
   "metadata": {},
   "source": [
    "Append mode"
   ]
  },
  {
   "cell_type": "code",
   "execution_count": 12,
   "id": "259081b7-d926-4bda-b9a4-092d2c245d48",
   "metadata": {},
   "outputs": [
    {
     "data": {
      "text/plain": [
       "41"
      ]
     },
     "execution_count": 12,
     "metadata": {},
     "output_type": "execute_result"
    }
   ],
   "source": [
    "new=open(\"new.txt\",\"a\")\n",
    "new.write(\"I am pursuing data science from pw skills\")"
   ]
  },
  {
   "cell_type": "code",
   "execution_count": 11,
   "id": "a6b03070-fb0b-4d7b-9696-4576539ef4b0",
   "metadata": {},
   "outputs": [],
   "source": [
    "new.close()"
   ]
  },
  {
   "cell_type": "code",
   "execution_count": 8,
   "id": "c5b6fdc2-c26b-4549-aa9e-70c040ad45f1",
   "metadata": {},
   "outputs": [
    {
     "name": "stdout",
     "output_type": "stream",
     "text": [
      "There is a lot of stress around us whole day which creates lot of hindrance in our mind. pw skills\n"
     ]
    }
   ],
   "source": [
    "with open(\"new.txt\",\"r+\") as new:\n",
    "    print(new.read())"
   ]
  },
  {
   "cell_type": "code",
   "execution_count": null,
   "id": "6e61f167-af3f-4981-91e0-2d607ee3867b",
   "metadata": {},
   "outputs": [],
   "source": [
    "with open(\"new.txt\",\"w+\") as new:\n",
    "    new.write(\"There is a lot of stress around us whole day which creates lot of hindrance in our mind.\")"
   ]
  },
  {
   "cell_type": "markdown",
   "id": "209fcf1d-f098-48af-aab4-1a7dba645bba",
   "metadata": {},
   "source": [
    "Q2"
   ]
  },
  {
   "cell_type": "markdown",
   "id": "1aa3526d-6690-41c9-a7e3-03ea829e09fb",
   "metadata": {},
   "source": [
    "It is important to close opened files. Because, when you open a file, the file is locked for writing(if opened in write mode). Thus you cannot access that file outside your program while it is open in python. Moreover you cannot see the changes you made to the file in your program until you close it. The close function actually saves the changes to the file and releases the lock."
   ]
  },
  {
   "cell_type": "markdown",
   "id": "80030cd0-f266-441b-bf2a-7ab974b8ca18",
   "metadata": {},
   "source": [
    "Q3"
   ]
  },
  {
   "cell_type": "code",
   "execution_count": 10,
   "id": "57bb0e15-b8b4-48bc-a493-326d1429e8c7",
   "metadata": {},
   "outputs": [],
   "source": [
    "a=open(\"test2.txt\",\"w\")"
   ]
  },
  {
   "cell_type": "code",
   "execution_count": 11,
   "id": "7968bbe7-38e0-42a4-a803-8c9d37efd8cc",
   "metadata": {},
   "outputs": [
    {
     "data": {
      "text/plain": [
       "33"
      ]
     },
     "execution_count": 11,
     "metadata": {},
     "output_type": "execute_result"
    }
   ],
   "source": [
    "a.write(\"I want to become a Data Scientist\")"
   ]
  },
  {
   "cell_type": "code",
   "execution_count": 12,
   "id": "83e36f49-cab4-44f8-b23f-54534e67fc36",
   "metadata": {},
   "outputs": [],
   "source": [
    "a.close()"
   ]
  },
  {
   "cell_type": "code",
   "execution_count": 13,
   "id": "0d927b5a-6c38-4e5d-9ec5-e2d5b1cbf061",
   "metadata": {},
   "outputs": [],
   "source": [
    "a=open(\"test2.txt\",\"r\")"
   ]
  },
  {
   "cell_type": "code",
   "execution_count": 14,
   "id": "9be51fdf-80ee-4922-9b04-089908eef842",
   "metadata": {},
   "outputs": [
    {
     "name": "stdout",
     "output_type": "stream",
     "text": [
      "I want to become a Data Scientist\n"
     ]
    }
   ],
   "source": [
    "print(a.read())"
   ]
  },
  {
   "cell_type": "code",
   "execution_count": 16,
   "id": "4d7fbb6b-c6b0-4de4-9b66-35a609ad6ce0",
   "metadata": {},
   "outputs": [],
   "source": [
    "a.close()"
   ]
  },
  {
   "cell_type": "markdown",
   "id": "636f7714-8c28-4e88-9343-1bd95f108d06",
   "metadata": {},
   "source": [
    "Q4"
   ]
  },
  {
   "cell_type": "markdown",
   "id": "674e9222-dbbf-4879-b57f-82cd9eed3303",
   "metadata": {},
   "source": [
    "READ METHOD"
   ]
  },
  {
   "cell_type": "code",
   "execution_count": 17,
   "id": "ed64800e-716e-461b-af44-c7ebc179c3f8",
   "metadata": {},
   "outputs": [
    {
     "name": "stdout",
     "output_type": "stream",
     "text": [
      "I want to become a Data Scientist\n"
     ]
    }
   ],
   "source": [
    "a=open(\"test2.txt\",\"r\")\n",
    "print(a.read())"
   ]
  },
  {
   "cell_type": "markdown",
   "id": "9474ad45-ca11-4eab-ac15-cd20a3bf6529",
   "metadata": {},
   "source": [
    "Readline Method"
   ]
  },
  {
   "cell_type": "code",
   "execution_count": 20,
   "id": "2b4bdd47-d068-4466-8597-84e440df1dac",
   "metadata": {},
   "outputs": [
    {
     "name": "stdout",
     "output_type": "stream",
     "text": [
      "First line\n",
      "\n"
     ]
    }
   ],
   "source": [
    "b=open(\"test3.txt\",\"r\")\n",
    "print(b.readline())#only prints the first line"
   ]
  },
  {
   "cell_type": "markdown",
   "id": "1fef4f8e-b9f9-4fb0-88ce-5c41f22e930f",
   "metadata": {},
   "source": [
    "Readlines method"
   ]
  },
  {
   "cell_type": "code",
   "execution_count": 21,
   "id": "4f4268dc-5a82-4d54-8a74-168111c02d08",
   "metadata": {},
   "outputs": [
    {
     "name": "stdout",
     "output_type": "stream",
     "text": [
      "['First line\\n', 'Second line']\n"
     ]
    }
   ],
   "source": [
    "b=open(\"test3.txt\",\"r\")\n",
    "print(b.readlines())#"
   ]
  },
  {
   "cell_type": "markdown",
   "id": "b611c579-fea8-4a10-8ae6-7cea246322c8",
   "metadata": {},
   "source": [
    "Q4"
   ]
  },
  {
   "cell_type": "markdown",
   "id": "13a2452f-2c90-4cb2-90f3-a5dd0fdfa5e5",
   "metadata": {},
   "source": [
    "The with statement works with the open() function to open a file. Unlike open() where you have to close the file with the close() method, the with statement closes the file for you without you telling it to.For example"
   ]
  },
  {
   "cell_type": "code",
   "execution_count": null,
   "id": "dae0e694-b395-475f-a336-7a4a844d05d7",
   "metadata": {},
   "outputs": [],
   "source": [
    "with open(\"abc.txt\",\"w\") as a:\n"
   ]
  },
  {
   "cell_type": "markdown",
   "id": "ca2a2f87-abce-4bee-b125-7ebc5359f2a4",
   "metadata": {},
   "source": [
    "Q6"
   ]
  },
  {
   "cell_type": "markdown",
   "id": "9c487f51-e625-445a-b29d-c7799077c0c5",
   "metadata": {},
   "source": [
    "Write():The write() function will write the content in the file without adding any extra characters."
   ]
  },
  {
   "cell_type": "code",
   "execution_count": 1,
   "id": "70f4f52c-fc58-470f-830b-344739ef71fa",
   "metadata": {},
   "outputs": [
    {
     "data": {
      "text/plain": [
       "16"
      ]
     },
     "execution_count": 1,
     "metadata": {},
     "output_type": "execute_result"
    }
   ],
   "source": [
    "a=open(\"abc.txt\",\"w\")\n",
    "a.write(\"My name is Harsh\")"
   ]
  },
  {
   "cell_type": "code",
   "execution_count": 4,
   "id": "374be5a6-dfd7-4694-9ab9-e472504799b3",
   "metadata": {},
   "outputs": [],
   "source": [
    "a.close()"
   ]
  },
  {
   "cell_type": "markdown",
   "id": "e9bd89d2-5800-4a45-ab41-01b21c7cd030",
   "metadata": {},
   "source": [
    "writelines():This function writes the content of a list to a file."
   ]
  },
  {
   "cell_type": "code",
   "execution_count": 3,
   "id": "426147b8-0427-41f5-90b6-7acc6dedd059",
   "metadata": {},
   "outputs": [],
   "source": [
    "b=open(\"def.txt\",\"w\")\n",
    "b.writelines([\"harsh\",\"yash\",\"utkarsh\"])"
   ]
  },
  {
   "cell_type": "code",
   "execution_count": null,
   "id": "74267896-e415-4787-88a7-d0beea97a067",
   "metadata": {},
   "outputs": [],
   "source": []
  }
 ],
 "metadata": {
  "kernelspec": {
   "display_name": "Python 3 (ipykernel)",
   "language": "python",
   "name": "python3"
  },
  "language_info": {
   "codemirror_mode": {
    "name": "ipython",
    "version": 3
   },
   "file_extension": ".py",
   "mimetype": "text/x-python",
   "name": "python",
   "nbconvert_exporter": "python",
   "pygments_lexer": "ipython3",
   "version": "3.10.8"
  }
 },
 "nbformat": 4,
 "nbformat_minor": 5
}
